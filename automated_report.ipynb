import pandas as pd
import matplotlib.pyplot as plt
from fpdf import FPDF
import os
from datetime import datetime

class PDFReport(FPDF):
    def header(self):
        self.set_font('Arial', 'B', 12)
        self.cell(0, 10, 'Data Analysis Report', 0, 1, 'C')
        self.ln(5)
    
    def footer(self):
        self.set_y(-15)
        self.set_font('Arial', 'I', 8)
        self.cell(0, 10, f'Page {self.page_no()} / {{nb}}', 0, 0, 'C')
    
    def add_section_title(self, title):
        self.set_font('Arial', 'B', 12)
        self.cell(0, 10, title, 0, 1)
        self.ln(2)
    
    def add_text(self, text):
        self.set_font('Arial', '', 10)
        self.multi_cell(0, 5, text)
        self.ln(3)
    
    def add_image(self, image_path, width=180):
        self.image(image_path, x=10, y=None, w=width)
        self.ln(5)

def analyze_data(df):
    # Basic statistics
    stats = df.describe()
    
    # Visualizations
    plt.figure(figsize=(8, 4))
    df.plot(kind='hist', alpha=0.7, bins=15)
    plt.title('Data Distribution')
    plt.savefig('distribution.png')
    plt.close()
    
    return stats

def generate_report(input_file, output_file='report.pdf'):
    # Read data
    df = pd.read_csv(input_file)  # Corrected line
    
    # Analyze data
    analysis = analyze_data(df)
    
    # Generate report
    pdf = PDFReport()
    pdf.alias_nb_pages()
    pdf.add_page()
    
    # Report header
    pdf.set_font('Arial', 'B', 16)
    pdf.cell(0, 10, f"Data Analysis Report", 0, 1, 'C')
    pdf.ln(5)
    pdf.set_font('Arial', '', 10)
    pdf.cell(0, 5, f"Generated on: {datetime.now().strftime('%Y-%m-%d %H:%M:%S')}", 0, 1)
    pdf.ln(10)
    
    # File info section
    pdf.add_section_title("File Information")
    pdf.add_text(f"Input file: {os.path.basename(input_file)}")
    pdf.add_text(f"Total records: {len(df)}")
    pdf.add_text(f"Columns: {', '.join(df.columns)}")
    
    # Analysis section
    pdf.add_section_title("Statistical Analysis")
    pdf.add_text(str(analysis))
    
    # Visualization section
    pdf.add_section_title("Data Visualization")
    pdf.add_text("Below is the distribution of the data:")
    pdf.add_image('distribution.png')
    
    # Save PDF
    pdf.output(output_file)
    print(f"Report generated: {output_file}")

# Directly specify the input and output files
input_file = 'sample_data.csv'  # Make sure this file exists in the same directory
output_file = 'report.pdf'  # You can change the output file name if needed

# Generate the report
generate_report(input_file, output_file)
